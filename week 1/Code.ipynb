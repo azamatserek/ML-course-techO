{
 "cells": [
  {
   "cell_type": "code",
   "execution_count": 8,
   "id": "2b07ad60-9d05-41ba-945e-eb48729250e5",
   "metadata": {},
   "outputs": [],
   "source": [
    "import pandas as pd\n",
    "from sklearn.model_selection import train_test_split\n",
    "from sklearn.linear_model import LogisticRegression\n",
    "from sklearn.metrics import accuracy_score\n",
    "from sklearn.preprocessing import LabelEncoder, StandardScaler\n",
    "\n",
    "\n"
   ]
  },
  {
   "cell_type": "markdown",
   "id": "d9105c90-619c-4fb7-a8e0-91316bd3f533",
   "metadata": {},
   "source": [
    "# Задача классификации"
   ]
  },
  {
   "cell_type": "code",
   "execution_count": 7,
   "id": "2348ff86-c4e4-4484-a45c-4fbdb5cc1ee2",
   "metadata": {},
   "outputs": [
    {
     "name": "stdout",
     "output_type": "stream",
     "text": [
      "Данные:\n",
      "   gender  age income_level  purchased\n",
      "0    male   23          low          1\n",
      "1  female   45         high          0\n",
      "2  female   34       medium          0\n",
      "3    male   25       medium          1\n",
      "4    male   42         high          1\n",
      "5  female   31          low          0\n",
      "6    male   26       medium          1\n"
     ]
    }
   ],
   "source": [
    "# Создаем данные (в реальности данные загружаются из файла или базы данных)\n",
    "data = {\n",
    "    'gender': ['male', 'female', 'female', 'male', 'male', 'female', 'male'],\n",
    "    'age': [23, 45, 34, 25, 42, 31, 26],\n",
    "    'income_level': ['low', 'high', 'medium', 'medium', 'high', 'low', 'medium'],\n",
    "    'purchased': [1, 0, 0, 1, 1, 0, 1]\n",
    "}\n",
    "\n",
    "# Преобразуем данные в DataFrame\n",
    "df = pd.DataFrame(data)\n",
    "\n",
    "# Выводим данные\n",
    "print(\"Данные:\")\n",
    "print(df)\n"
   ]
  },
  {
   "cell_type": "code",
   "execution_count": 3,
   "id": "d3fbd032-bb81-49b3-a91a-16f8bd5f392e",
   "metadata": {},
   "outputs": [
    {
     "name": "stdout",
     "output_type": "stream",
     "text": [
      "   gender  age  income_level  purchased\n",
      "0       1   23             1          1\n",
      "1       0   45             0          0\n",
      "2       0   34             2          0\n",
      "3       1   25             2          1\n",
      "4       1   42             0          1\n"
     ]
    }
   ],
   "source": [
    "# Преобразуем номинальные признаки в числовые значения (бинарные и номинальные шкалы)\n",
    "le_gender = LabelEncoder()\n",
    "df['gender'] = le_gender.fit_transform(df['gender'])\n",
    "\n",
    "le_income = LabelEncoder()\n",
    "df['income_level'] = le_income.fit_transform(df['income_level'])\n",
    "\n",
    "print(df.head())"
   ]
  },
  {
   "cell_type": "code",
   "execution_count": 4,
   "id": "0da73b81-9c1d-4958-8df2-daa1fcca5167",
   "metadata": {},
   "outputs": [
    {
     "name": "stdout",
     "output_type": "stream",
     "text": [
      "0   -1.171980\n",
      "1    1.604711\n",
      "2    0.216366\n",
      "3   -0.919554\n",
      "4    1.226071\n",
      "5   -0.162274\n",
      "6   -0.793340\n",
      "Name: age, dtype: float64\n"
     ]
    }
   ],
   "source": [
    "# Стандартизируем количественные признаки (возраст)\n",
    "scaler = StandardScaler()\n",
    "df['age'] = scaler.fit_transform(df[['age']])\n",
    "print(df['age'])"
   ]
  },
  {
   "cell_type": "code",
   "execution_count": 5,
   "id": "2c831cd2-82ba-4d06-b474-ae5f406fd029",
   "metadata": {},
   "outputs": [
    {
     "name": "stdout",
     "output_type": "stream",
     "text": [
      "   gender       age  income_level\n",
      "0       1 -1.171980             1\n",
      "1       0  1.604711             0\n",
      "2       0  0.216366             2\n",
      "3       1 -0.919554             2\n",
      "4       1  1.226071             0\n",
      "5       0 -0.162274             1\n",
      "6       1 -0.793340             2\n",
      "0    1\n",
      "1    0\n",
      "2    0\n",
      "3    1\n",
      "4    1\n",
      "5    0\n",
      "6    1\n",
      "Name: purchased, dtype: int64\n"
     ]
    }
   ],
   "source": [
    "# Разделяем данные на признаки и целевую переменную\n",
    "X = df[['gender', 'age', 'income_level']]\n",
    "y = df['purchased']\n",
    "\n",
    "print(X)\n",
    "print(y)"
   ]
  },
  {
   "cell_type": "code",
   "execution_count": 6,
   "id": "587af3b0-be74-46e9-9ebf-74efd8acf60f",
   "metadata": {},
   "outputs": [
    {
     "name": "stdout",
     "output_type": "stream",
     "text": [
      "\n",
      "Точность модели: 0.33\n"
     ]
    }
   ],
   "source": [
    "# Разделяем данные на тренировочный и тестовый наборы\n",
    "X_train, X_test, y_train, y_test = train_test_split(X, y, test_size=0.3, random_state=42)\n",
    "\n",
    "# Обучаем модель логистической регрессии (задача классификации)\n",
    "model = LogisticRegression()\n",
    "model.fit(X_train, y_train)\n",
    "\n",
    "# Прогнозируем покупки на тестовых данных\n",
    "y_pred = model.predict(X_test)\n",
    "\n",
    "# Оцениваем точность модели\n",
    "accuracy = accuracy_score(y_test, y_pred)\n",
    "print(f\"\\nТочность модели: {accuracy:.2f}\")"
   ]
  },
  {
   "cell_type": "markdown",
   "id": "7a2a817b-27b0-4f4f-9be6-a15a16829176",
   "metadata": {},
   "source": [
    "# Задача регрессии"
   ]
  },
  {
   "cell_type": "code",
   "execution_count": 9,
   "id": "11e4f798-4f09-418f-bb0c-8683a118aff7",
   "metadata": {},
   "outputs": [
    {
     "name": "stdout",
     "output_type": "stream",
     "text": [
      "Средняя квадратичная ошибка модели: 839254423.13\n"
     ]
    }
   ],
   "source": [
    "import pandas as pd\n",
    "from sklearn.model_selection import train_test_split\n",
    "from sklearn.linear_model import LinearRegression\n",
    "from sklearn.metrics import mean_squared_error\n",
    "\n",
    "# Данные\n",
    "data = {\n",
    "    'size': [1500, 2300, 1700, 1200, 2100],   # Площадь дома (кв. футы) - количественная шкала\n",
    "    'bedrooms': [3, 4, 3, 2, 4],              # Количество спален - количественная шкала\n",
    "    'age': [10, 5, 15, 20, 8],                # Возраст дома (годы) - количественная шкала\n",
    "    'price': [300000, 450000, 320000, 200000, 400000]  # Цена дома - количественная шкала (целевая переменная)\n",
    "}\n",
    "\n",
    "# Преобразуем данные в DataFrame\n",
    "df = pd.DataFrame(data)\n",
    "\n",
    "# Разделяем данные на признаки и целевую переменную\n",
    "X = df[['size', 'bedrooms', 'age']]\n",
    "y = df['price']\n",
    "\n",
    "# Разделяем данные на тренировочный и тестовый наборы\n",
    "X_train, X_test, y_train, y_test = train_test_split(X, y, test_size=0.3, random_state=42)\n",
    "\n",
    "# Обучаем модель линейной регрессии (задача регрессии)\n",
    "model = LinearRegression()\n",
    "model.fit(X_train, y_train)\n",
    "\n",
    "# Прогнозируем цены на тестовых данных\n",
    "y_pred = model.predict(X_test)\n",
    "\n",
    "# Оцениваем качество модели с помощью средней квадратичной ошибки\n",
    "mse = mean_squared_error(y_test, y_pred)\n",
    "print(f\"Средняя квадратичная ошибка модели: {mse:.2f}\")\n"
   ]
  },
  {
   "cell_type": "markdown",
   "id": "5dc6e88c-6b02-4943-a22b-58910f324cc1",
   "metadata": {},
   "source": [
    "# Задача прогнозирования"
   ]
  },
  {
   "cell_type": "code",
   "execution_count": 10,
   "id": "2a948fa3-1650-4e25-93f1-eed90db568a8",
   "metadata": {},
   "outputs": [
    {
     "name": "stdout",
     "output_type": "stream",
     "text": [
      "Прогнозируемое количество пассажиров на следующий месяц: 210\n"
     ]
    }
   ],
   "source": [
    "import pandas as pd\n",
    "from sklearn.model_selection import train_test_split\n",
    "from sklearn.linear_model import LinearRegression\n",
    "from sklearn.metrics import mean_squared_error\n",
    "\n",
    "# Данные (в реальности данные загружаются из файла или базы данных)\n",
    "data = {\n",
    "    'month': [1, 2, 3, 4, 5, 6],  # Месяц (порядковая шкала)\n",
    "    'passengers': [120, 135, 150, 165, 180, 195]  # Количество пассажиров - количественная шкала (целевая переменная)\n",
    "}\n",
    "\n",
    "# Преобразуем данные в DataFrame\n",
    "df = pd.DataFrame(data)\n",
    "\n",
    "# Разделяем данные на признаки и целевую переменную\n",
    "X = df[['month']]\n",
    "y = df['passengers']\n",
    "\n",
    "# Обучаем модель линейной регрессии (задача прогнозирования)\n",
    "model = LinearRegression()\n",
    "model.fit(X, y)\n",
    "\n",
    "# Прогнозируем количество пассажиров на следующий месяц (месяц 7)\n",
    "next_month = pd.DataFrame({'month': [7]})\n",
    "forecast = model.predict(next_month)\n",
    "\n",
    "print(f\"Прогнозируемое количество пассажиров на следующий месяц: {forecast[0]:.0f}\")\n"
   ]
  },
  {
   "cell_type": "markdown",
   "id": "3fcb5d73-bd6b-4106-a2de-f75d6a422e23",
   "metadata": {},
   "source": [
    "# Задача ранжирования"
   ]
  },
  {
   "cell_type": "code",
   "execution_count": 11,
   "id": "b7ec5e37-532a-423a-bda0-a33ba07068ca",
   "metadata": {},
   "outputs": [
    {
     "name": "stdout",
     "output_type": "stream",
     "text": [
      "Средняя квадратичная ошибка модели: 12.76\n"
     ]
    }
   ],
   "source": [
    "import pandas as pd\n",
    "from sklearn.model_selection import train_test_split\n",
    "from sklearn.linear_model import LinearRegression\n",
    "from sklearn.metrics import mean_squared_error\n",
    "\n",
    "# Данные\n",
    "data = {\n",
    "    'page_rank': [1, 2, 3, 4, 5],  # Ранг страницы - порядковая шкала\n",
    "    'relevance': [0.9, 0.8, 0.7, 0.6, 0.5],  # Релевантность страницы - количественная шкала\n",
    "    'click_rate': [100, 85, 70, 50, 30]  # Количество кликов - количественная шкала (целевая переменная)\n",
    "}\n",
    "\n",
    "# Преобразуем данные в DataFrame\n",
    "df = pd.DataFrame(data)\n",
    "\n",
    "# Разделяем данные на признаки и целевую переменную\n",
    "X = df[['page_rank', 'relevance']]\n",
    "y = df['click_rate']\n",
    "\n",
    "# Разделяем данные на тренировочный и тестовый наборы\n",
    "X_train, X_test, y_train, y_test = train_test_split(X, y, test_size=0.3, random_state=42)\n",
    "\n",
    "# Обучаем модель линейной регрессии (задача ранжирования)\n",
    "model = LinearRegression()\n",
    "model.fit(X_train, y_train)\n",
    "\n",
    "# Прогнозируем количество кликов на тестовых данных\n",
    "y_pred = model.predict(X_test)\n",
    "\n",
    "# Оцениваем качество модели с помощью средней квадратичной ошибки\n",
    "mse = mean_squared_error(y_test, y_pred)\n",
    "print(f\"Средняя квадратичная ошибка модели: {mse:.2f}\")\n"
   ]
  },
  {
   "cell_type": "code",
   "execution_count": null,
   "id": "ffd59947-5470-4f6c-882f-e53ebdbe05cb",
   "metadata": {},
   "outputs": [],
   "source": []
  }
 ],
 "metadata": {
  "kernelspec": {
   "display_name": "Python 3 (ipykernel)",
   "language": "python",
   "name": "python3"
  },
  "language_info": {
   "codemirror_mode": {
    "name": "ipython",
    "version": 3
   },
   "file_extension": ".py",
   "mimetype": "text/x-python",
   "name": "python",
   "nbconvert_exporter": "python",
   "pygments_lexer": "ipython3",
   "version": "3.11.7"
  }
 },
 "nbformat": 4,
 "nbformat_minor": 5
}
